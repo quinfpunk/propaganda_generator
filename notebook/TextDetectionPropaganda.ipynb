{
  "cells": [
    {
      "cell_type": "code",
      "execution_count": 1,
      "metadata": {
        "id": "fB7SwrdBKe8q"
      },
      "outputs": [],
      "source": [
        "from google.colab import drive\n",
        "import os\n",
        "\n",
        "#drive.mount(\"/content/drive\")\n",
        "\n",
        "#%cd /content/drive/MyDrive/EPITA/SCIA/ing3/DNN/"
      ]
    },
    {
      "cell_type": "code",
      "execution_count": 2,
      "metadata": {
        "colab": {
          "base_uri": "https://localhost:8080/"
        },
        "id": "QjLAs84VK7sF",
        "outputId": "8f7f2e3d-6042-49a9-e78f-ed264a34c42d"
      },
      "outputs": [
        {
          "output_type": "stream",
          "name": "stdout",
          "text": [
            "Requirement already satisfied: transformers in /usr/local/lib/python3.10/dist-packages (4.35.2)\n",
            "Requirement already satisfied: filelock in /usr/local/lib/python3.10/dist-packages (from transformers) (3.13.1)\n",
            "Requirement already satisfied: huggingface-hub<1.0,>=0.16.4 in /usr/local/lib/python3.10/dist-packages (from transformers) (0.20.3)\n",
            "Requirement already satisfied: numpy>=1.17 in /usr/local/lib/python3.10/dist-packages (from transformers) (1.23.5)\n",
            "Requirement already satisfied: packaging>=20.0 in /usr/local/lib/python3.10/dist-packages (from transformers) (23.2)\n",
            "Requirement already satisfied: pyyaml>=5.1 in /usr/local/lib/python3.10/dist-packages (from transformers) (6.0.1)\n",
            "Requirement already satisfied: regex!=2019.12.17 in /usr/local/lib/python3.10/dist-packages (from transformers) (2023.12.25)\n",
            "Requirement already satisfied: requests in /usr/local/lib/python3.10/dist-packages (from transformers) (2.31.0)\n",
            "Requirement already satisfied: tokenizers<0.19,>=0.14 in /usr/local/lib/python3.10/dist-packages (from transformers) (0.15.1)\n",
            "Requirement already satisfied: safetensors>=0.3.1 in /usr/local/lib/python3.10/dist-packages (from transformers) (0.4.2)\n",
            "Requirement already satisfied: tqdm>=4.27 in /usr/local/lib/python3.10/dist-packages (from transformers) (4.66.1)\n",
            "Requirement already satisfied: fsspec>=2023.5.0 in /usr/local/lib/python3.10/dist-packages (from huggingface-hub<1.0,>=0.16.4->transformers) (2023.6.0)\n",
            "Requirement already satisfied: typing-extensions>=3.7.4.3 in /usr/local/lib/python3.10/dist-packages (from huggingface-hub<1.0,>=0.16.4->transformers) (4.5.0)\n",
            "Requirement already satisfied: charset-normalizer<4,>=2 in /usr/local/lib/python3.10/dist-packages (from requests->transformers) (3.3.2)\n",
            "Requirement already satisfied: idna<4,>=2.5 in /usr/local/lib/python3.10/dist-packages (from requests->transformers) (3.6)\n",
            "Requirement already satisfied: urllib3<3,>=1.21.1 in /usr/local/lib/python3.10/dist-packages (from requests->transformers) (2.0.7)\n",
            "Requirement already satisfied: certifi>=2017.4.17 in /usr/local/lib/python3.10/dist-packages (from requests->transformers) (2023.11.17)\n"
          ]
        }
      ],
      "source": [
        "!pip install transformers"
      ]
    },
    {
      "cell_type": "code",
      "execution_count": 79,
      "metadata": {
        "colab": {
          "base_uri": "https://localhost:8080/",
          "height": 35
        },
        "id": "2fU92RuDKg8n",
        "outputId": "f442696a-a6e4-4211-8407-26bacd827504"
      },
      "outputs": [
        {
          "output_type": "execute_result",
          "data": {
            "text/plain": [
              "'cuda'"
            ],
            "application/vnd.google.colaboratory.intrinsic+json": {
              "type": "string"
            }
          },
          "metadata": {},
          "execution_count": 79
        }
      ],
      "source": [
        "from model import BertForTokenAndSequenceJointClassification\n",
        "\n",
        "import torch\n",
        "import torch.onnx\n",
        "import tensorflow as tf\n",
        "\n",
        "from transformers import BertTokenizerFast\n",
        "import pandas as pd\n",
        "from sklearn.model_selection import train_test_split\n",
        "from sklearn.metrics import accuracy_score, classification_report\n",
        "from transformers import BertTokenizer, BertForSequenceClassification\n",
        "from torch.utils.data import DataLoader, TensorDataset\n",
        "import torch\n",
        "from sklearn.feature_extraction.text import TfidfVectorizer\n",
        "from sklearn.naive_bayes import MultinomialNB\n",
        "import matplotlib.pyplot as plt\n",
        "\n",
        "\n",
        "device = \"cuda\" if torch.cuda.is_available() else \"cpu\"\n",
        "device"
      ]
    },
    {
      "cell_type": "markdown",
      "source": [
        "# PropagandaTechniquesAnalysis-en-BERT Model\n",
        "\n",
        "### Tests on the model"
      ],
      "metadata": {
        "id": "N93ah8F0_sjm"
      }
    },
    {
      "cell_type": "code",
      "execution_count": 30,
      "metadata": {
        "id": "OMo75aMyMQdq"
      },
      "outputs": [],
      "source": [
        "tokenizer = BertTokenizerFast.from_pretrained('bert-base-cased')"
      ]
    },
    {
      "cell_type": "code",
      "execution_count": 31,
      "metadata": {
        "id": "QjjYJDgkMR3P"
      },
      "outputs": [],
      "source": [
        "model = BertForTokenAndSequenceJointClassification.from_pretrained(\n",
        "    \"QCRI/PropagandaTechniquesAnalysis-en-BERT\",\n",
        "    revision=\"v0.1.0\",\n",
        ").to(device)"
      ]
    },
    {
      "cell_type": "code",
      "execution_count": 36,
      "metadata": {
        "id": "CZ_xk10fVBIN"
      },
      "outputs": [],
      "source": [
        "def classify_text(text: str):\n",
        "    inputs = tokenizer.encode_plus(text, return_tensors=\"pt\").to(device)\n",
        "    outputs = model(**inputs)\n",
        "\n",
        "    token_class_index = torch.argmax(outputs.token_logits, dim=-1)\n",
        "    tags = [model.token_tags[i] for i in token_class_index[0].tolist()[1:-1]]\n",
        "\n",
        "    sequence_class_index = torch.argmax(outputs.sequence_logits, dim=-1)\n",
        "    sequence_class = model.sequence_tags[sequence_class_index[0]]\n",
        "    return sequence_class"
      ]
    },
    {
      "cell_type": "code",
      "execution_count": 42,
      "metadata": {
        "colab": {
          "base_uri": "https://localhost:8080/",
          "height": 35
        },
        "id": "yMSa3yJIVjry",
        "outputId": "81033bf5-428a-48db-d5f4-52da3c925439"
      },
      "outputs": [
        {
          "output_type": "execute_result",
          "data": {
            "text/plain": [
              "'Non-prop'"
            ],
            "application/vnd.google.colaboratory.intrinsic+json": {
              "type": "string"
            }
          },
          "metadata": {},
          "execution_count": 42
        }
      ],
      "source": [
        "classify_text('A close-up of a sign advertising a Front National  restaurant')"
      ]
    },
    {
      "cell_type": "code",
      "execution_count": 20,
      "metadata": {
        "colab": {
          "base_uri": "https://localhost:8080/"
        },
        "id": "bd3n3jsJMqAw",
        "outputId": "f88fb60c-10a6-4fb3-b573-2e1101a4134a"
      },
      "outputs": [
        {
          "output_type": "execute_result",
          "data": {
            "text/plain": [
              "{'input_ids': tensor([[ 101,  170, 1601, 1146, 1104,  170, 2951, 6437,  170, 1524, 1569, 4382,\n",
              "          102]]), 'token_type_ids': tensor([[0, 0, 0, 0, 0, 0, 0, 0, 0, 0, 0, 0, 0]]), 'attention_mask': tensor([[1, 1, 1, 1, 1, 1, 1, 1, 1, 1, 1, 1, 1]])}"
            ]
          },
          "metadata": {},
          "execution_count": 20
        }
      ],
      "source": [
        "PROMPT = \"a close up of a sign advertising a front national restaurant\"\n",
        "inputs = tokenizer.encode_plus(PROMPT, return_tensors=\"pt\")\n",
        "inputs"
      ]
    },
    {
      "cell_type": "code",
      "execution_count": 21,
      "metadata": {
        "id": "sP6aHvujOPg9"
      },
      "outputs": [],
      "source": [
        "outputs = model(**inputs)\n",
        "#outputs"
      ]
    },
    {
      "cell_type": "code",
      "execution_count": 22,
      "metadata": {
        "colab": {
          "base_uri": "https://localhost:8080/"
        },
        "id": "FChHSieIOS6D",
        "outputId": "8641e1c6-6003-433f-a318-573b676b317d"
      },
      "outputs": [
        {
          "output_type": "execute_result",
          "data": {
            "text/plain": [
              "tensor([0])"
            ]
          },
          "metadata": {},
          "execution_count": 22
        }
      ],
      "source": [
        "sequence_class_index = torch.argmax(outputs.sequence_logits, dim=-1)\n",
        "sequence_class_index"
      ]
    },
    {
      "cell_type": "code",
      "execution_count": 23,
      "metadata": {
        "colab": {
          "base_uri": "https://localhost:8080/",
          "height": 35
        },
        "id": "JbBrkcafOWp1",
        "outputId": "1a5f73b5-8958-48af-ae90-94852e3f3d5c"
      },
      "outputs": [
        {
          "output_type": "execute_result",
          "data": {
            "text/plain": [
              "'Non-prop'"
            ],
            "application/vnd.google.colaboratory.intrinsic+json": {
              "type": "string"
            }
          },
          "metadata": {},
          "execution_count": 23
        }
      ],
      "source": [
        "sequence_class = model.sequence_tags[sequence_class_index[0]]\n",
        "sequence_class"
      ]
    },
    {
      "cell_type": "code",
      "execution_count": 24,
      "metadata": {
        "colab": {
          "base_uri": "https://localhost:8080/"
        },
        "id": "ExJYOATuOe9x",
        "outputId": "1e916844-629f-4d94-d795-46c392121100"
      },
      "outputs": [
        {
          "output_type": "execute_result",
          "data": {
            "text/plain": [
              "tensor([[7, 1, 1, 1, 1, 1, 1, 1, 1, 1, 1, 1, 1]])"
            ]
          },
          "metadata": {},
          "execution_count": 24
        }
      ],
      "source": [
        "token_class_index = torch.argmax(outputs.token_logits, dim=-1)\n",
        "token_class_index"
      ]
    },
    {
      "cell_type": "code",
      "execution_count": 26,
      "metadata": {
        "id": "sjOEE4xpO9C4"
      },
      "outputs": [],
      "source": [
        "tokens = tokenizer.convert_ids_to_tokens(inputs.input_ids[0][1:-1])\n",
        "#tokens"
      ]
    },
    {
      "cell_type": "code",
      "execution_count": 27,
      "metadata": {
        "colab": {
          "base_uri": "https://localhost:8080/"
        },
        "id": "8vIAq9FXPXJo",
        "outputId": "9e7a0bf8-71e7-4135-da88-2941e6085456"
      },
      "outputs": [
        {
          "output_type": "execute_result",
          "data": {
            "text/plain": [
              "['O', 'O', 'O', 'O', 'O', 'O', 'O', 'O', 'O', 'O', 'O']"
            ]
          },
          "metadata": {},
          "execution_count": 27
        }
      ],
      "source": [
        "tags = [model.token_tags[i] for i in token_class_index[0].tolist()[1:-1]]\n",
        "tags"
      ]
    },
    {
      "cell_type": "markdown",
      "source": [
        "### Adapt the model on the provided dataset\n",
        "\n",
        "#### To prepare the data"
      ],
      "metadata": {
        "id": "ya8RCYIm_4ox"
      }
    },
    {
      "cell_type": "code",
      "execution_count": null,
      "metadata": {
        "colab": {
          "base_uri": "https://localhost:8080/"
        },
        "id": "ayZvl-HFHF2T",
        "outputId": "f35a8786-b9b7-4ebc-dd24-fa90e500e228"
      },
      "outputs": [
        {
          "name": "stdout",
          "output_type": "stream",
          "text": [
            "The two CSV files have been merged into img2text_compare.csv\n"
          ]
        }
      ],
      "source": [
        "# ONLY IF WE WANT TO MODIFY CURRENT DATA\n",
        "df1 = pd.read_csv('img2text_propaganda.csv')\n",
        "df2 = pd.read_csv('img2text_movie_propaganda.csv')\n",
        "\n",
        "# Concatenate the DataFrames\n",
        "merged_df = pd.concat([df1, df2], ignore_index=True)\n",
        "\n",
        "# Save the merged DataFrame to a new CSV file\n",
        "merged_csv_path = 'img2text_compare.csv'\n",
        "merged_df.to_csv(merged_csv_path, index=False)\n",
        "\n",
        "print(f\"The two CSV files have been merged into {merged_csv_path}\")"
      ]
    },
    {
      "cell_type": "code",
      "execution_count": 6,
      "metadata": {
        "colab": {
          "base_uri": "https://localhost:8080/",
          "height": 206
        },
        "id": "kmw_gILBPabT",
        "outputId": "459dd054-d034-49ef-dfa9-6678497d0a59"
      },
      "outputs": [
        {
          "output_type": "execute_result",
          "data": {
            "text/plain": [
              "           title          classes  \\\n",
              "0      24968.jpg  none_propaganda   \n",
              "1  image_389.png       propaganda   \n",
              "2  image_196.png       propaganda   \n",
              "3       9893.jpg  none_propaganda   \n",
              "4  image_357.png       propaganda   \n",
              "\n",
              "                                    generated_text_1  \\\n",
              "0  a photography of a poster for charlie chan london   \n",
              "1  a photography of a poster advertising a politi...   \n",
              "2  a photography of a poster advertising a concer...   \n",
              "3  a photography of a woman in a dress and hat wi...   \n",
              "4  a photography of a poster advertising a french...   \n",
              "\n",
              "                                    generated_text_2  \n",
              "0  a poster for charlie chan london starring in t...  \n",
              "1  a black and white poster with a black border a...  \n",
              "2   a poster advertising a concert at the grand ball  \n",
              "3  a poster for a concert with a woman in a dress...  \n",
              "4  a poster advertising the birth of the french r...  "
            ],
            "text/html": [
              "\n",
              "  <div id=\"df-fb0b14f3-765e-4a32-8286-533c951415a9\" class=\"colab-df-container\">\n",
              "    <div>\n",
              "<style scoped>\n",
              "    .dataframe tbody tr th:only-of-type {\n",
              "        vertical-align: middle;\n",
              "    }\n",
              "\n",
              "    .dataframe tbody tr th {\n",
              "        vertical-align: top;\n",
              "    }\n",
              "\n",
              "    .dataframe thead th {\n",
              "        text-align: right;\n",
              "    }\n",
              "</style>\n",
              "<table border=\"1\" class=\"dataframe\">\n",
              "  <thead>\n",
              "    <tr style=\"text-align: right;\">\n",
              "      <th></th>\n",
              "      <th>title</th>\n",
              "      <th>classes</th>\n",
              "      <th>generated_text_1</th>\n",
              "      <th>generated_text_2</th>\n",
              "    </tr>\n",
              "  </thead>\n",
              "  <tbody>\n",
              "    <tr>\n",
              "      <th>0</th>\n",
              "      <td>24968.jpg</td>\n",
              "      <td>none_propaganda</td>\n",
              "      <td>a photography of a poster for charlie chan london</td>\n",
              "      <td>a poster for charlie chan london starring in t...</td>\n",
              "    </tr>\n",
              "    <tr>\n",
              "      <th>1</th>\n",
              "      <td>image_389.png</td>\n",
              "      <td>propaganda</td>\n",
              "      <td>a photography of a poster advertising a politi...</td>\n",
              "      <td>a black and white poster with a black border a...</td>\n",
              "    </tr>\n",
              "    <tr>\n",
              "      <th>2</th>\n",
              "      <td>image_196.png</td>\n",
              "      <td>propaganda</td>\n",
              "      <td>a photography of a poster advertising a concer...</td>\n",
              "      <td>a poster advertising a concert at the grand ball</td>\n",
              "    </tr>\n",
              "    <tr>\n",
              "      <th>3</th>\n",
              "      <td>9893.jpg</td>\n",
              "      <td>none_propaganda</td>\n",
              "      <td>a photography of a woman in a dress and hat wi...</td>\n",
              "      <td>a poster for a concert with a woman in a dress...</td>\n",
              "    </tr>\n",
              "    <tr>\n",
              "      <th>4</th>\n",
              "      <td>image_357.png</td>\n",
              "      <td>propaganda</td>\n",
              "      <td>a photography of a poster advertising a french...</td>\n",
              "      <td>a poster advertising the birth of the french r...</td>\n",
              "    </tr>\n",
              "  </tbody>\n",
              "</table>\n",
              "</div>\n",
              "    <div class=\"colab-df-buttons\">\n",
              "\n",
              "  <div class=\"colab-df-container\">\n",
              "    <button class=\"colab-df-convert\" onclick=\"convertToInteractive('df-fb0b14f3-765e-4a32-8286-533c951415a9')\"\n",
              "            title=\"Convert this dataframe to an interactive table.\"\n",
              "            style=\"display:none;\">\n",
              "\n",
              "  <svg xmlns=\"http://www.w3.org/2000/svg\" height=\"24px\" viewBox=\"0 -960 960 960\">\n",
              "    <path d=\"M120-120v-720h720v720H120Zm60-500h600v-160H180v160Zm220 220h160v-160H400v160Zm0 220h160v-160H400v160ZM180-400h160v-160H180v160Zm440 0h160v-160H620v160ZM180-180h160v-160H180v160Zm440 0h160v-160H620v160Z\"/>\n",
              "  </svg>\n",
              "    </button>\n",
              "\n",
              "  <style>\n",
              "    .colab-df-container {\n",
              "      display:flex;\n",
              "      gap: 12px;\n",
              "    }\n",
              "\n",
              "    .colab-df-convert {\n",
              "      background-color: #E8F0FE;\n",
              "      border: none;\n",
              "      border-radius: 50%;\n",
              "      cursor: pointer;\n",
              "      display: none;\n",
              "      fill: #1967D2;\n",
              "      height: 32px;\n",
              "      padding: 0 0 0 0;\n",
              "      width: 32px;\n",
              "    }\n",
              "\n",
              "    .colab-df-convert:hover {\n",
              "      background-color: #E2EBFA;\n",
              "      box-shadow: 0px 1px 2px rgba(60, 64, 67, 0.3), 0px 1px 3px 1px rgba(60, 64, 67, 0.15);\n",
              "      fill: #174EA6;\n",
              "    }\n",
              "\n",
              "    .colab-df-buttons div {\n",
              "      margin-bottom: 4px;\n",
              "    }\n",
              "\n",
              "    [theme=dark] .colab-df-convert {\n",
              "      background-color: #3B4455;\n",
              "      fill: #D2E3FC;\n",
              "    }\n",
              "\n",
              "    [theme=dark] .colab-df-convert:hover {\n",
              "      background-color: #434B5C;\n",
              "      box-shadow: 0px 1px 3px 1px rgba(0, 0, 0, 0.15);\n",
              "      filter: drop-shadow(0px 1px 2px rgba(0, 0, 0, 0.3));\n",
              "      fill: #FFFFFF;\n",
              "    }\n",
              "  </style>\n",
              "\n",
              "    <script>\n",
              "      const buttonEl =\n",
              "        document.querySelector('#df-fb0b14f3-765e-4a32-8286-533c951415a9 button.colab-df-convert');\n",
              "      buttonEl.style.display =\n",
              "        google.colab.kernel.accessAllowed ? 'block' : 'none';\n",
              "\n",
              "      async function convertToInteractive(key) {\n",
              "        const element = document.querySelector('#df-fb0b14f3-765e-4a32-8286-533c951415a9');\n",
              "        const dataTable =\n",
              "          await google.colab.kernel.invokeFunction('convertToInteractive',\n",
              "                                                    [key], {});\n",
              "        if (!dataTable) return;\n",
              "\n",
              "        const docLinkHtml = 'Like what you see? Visit the ' +\n",
              "          '<a target=\"_blank\" href=https://colab.research.google.com/notebooks/data_table.ipynb>data table notebook</a>'\n",
              "          + ' to learn more about interactive tables.';\n",
              "        element.innerHTML = '';\n",
              "        dataTable['output_type'] = 'display_data';\n",
              "        await google.colab.output.renderOutput(dataTable, element);\n",
              "        const docLink = document.createElement('div');\n",
              "        docLink.innerHTML = docLinkHtml;\n",
              "        element.appendChild(docLink);\n",
              "      }\n",
              "    </script>\n",
              "  </div>\n",
              "\n",
              "\n",
              "<div id=\"df-43625df2-8e46-4e7f-a321-b7577ae633bf\">\n",
              "  <button class=\"colab-df-quickchart\" onclick=\"quickchart('df-43625df2-8e46-4e7f-a321-b7577ae633bf')\"\n",
              "            title=\"Suggest charts\"\n",
              "            style=\"display:none;\">\n",
              "\n",
              "<svg xmlns=\"http://www.w3.org/2000/svg\" height=\"24px\"viewBox=\"0 0 24 24\"\n",
              "     width=\"24px\">\n",
              "    <g>\n",
              "        <path d=\"M19 3H5c-1.1 0-2 .9-2 2v14c0 1.1.9 2 2 2h14c1.1 0 2-.9 2-2V5c0-1.1-.9-2-2-2zM9 17H7v-7h2v7zm4 0h-2V7h2v10zm4 0h-2v-4h2v4z\"/>\n",
              "    </g>\n",
              "</svg>\n",
              "  </button>\n",
              "\n",
              "<style>\n",
              "  .colab-df-quickchart {\n",
              "      --bg-color: #E8F0FE;\n",
              "      --fill-color: #1967D2;\n",
              "      --hover-bg-color: #E2EBFA;\n",
              "      --hover-fill-color: #174EA6;\n",
              "      --disabled-fill-color: #AAA;\n",
              "      --disabled-bg-color: #DDD;\n",
              "  }\n",
              "\n",
              "  [theme=dark] .colab-df-quickchart {\n",
              "      --bg-color: #3B4455;\n",
              "      --fill-color: #D2E3FC;\n",
              "      --hover-bg-color: #434B5C;\n",
              "      --hover-fill-color: #FFFFFF;\n",
              "      --disabled-bg-color: #3B4455;\n",
              "      --disabled-fill-color: #666;\n",
              "  }\n",
              "\n",
              "  .colab-df-quickchart {\n",
              "    background-color: var(--bg-color);\n",
              "    border: none;\n",
              "    border-radius: 50%;\n",
              "    cursor: pointer;\n",
              "    display: none;\n",
              "    fill: var(--fill-color);\n",
              "    height: 32px;\n",
              "    padding: 0;\n",
              "    width: 32px;\n",
              "  }\n",
              "\n",
              "  .colab-df-quickchart:hover {\n",
              "    background-color: var(--hover-bg-color);\n",
              "    box-shadow: 0 1px 2px rgba(60, 64, 67, 0.3), 0 1px 3px 1px rgba(60, 64, 67, 0.15);\n",
              "    fill: var(--button-hover-fill-color);\n",
              "  }\n",
              "\n",
              "  .colab-df-quickchart-complete:disabled,\n",
              "  .colab-df-quickchart-complete:disabled:hover {\n",
              "    background-color: var(--disabled-bg-color);\n",
              "    fill: var(--disabled-fill-color);\n",
              "    box-shadow: none;\n",
              "  }\n",
              "\n",
              "  .colab-df-spinner {\n",
              "    border: 2px solid var(--fill-color);\n",
              "    border-color: transparent;\n",
              "    border-bottom-color: var(--fill-color);\n",
              "    animation:\n",
              "      spin 1s steps(1) infinite;\n",
              "  }\n",
              "\n",
              "  @keyframes spin {\n",
              "    0% {\n",
              "      border-color: transparent;\n",
              "      border-bottom-color: var(--fill-color);\n",
              "      border-left-color: var(--fill-color);\n",
              "    }\n",
              "    20% {\n",
              "      border-color: transparent;\n",
              "      border-left-color: var(--fill-color);\n",
              "      border-top-color: var(--fill-color);\n",
              "    }\n",
              "    30% {\n",
              "      border-color: transparent;\n",
              "      border-left-color: var(--fill-color);\n",
              "      border-top-color: var(--fill-color);\n",
              "      border-right-color: var(--fill-color);\n",
              "    }\n",
              "    40% {\n",
              "      border-color: transparent;\n",
              "      border-right-color: var(--fill-color);\n",
              "      border-top-color: var(--fill-color);\n",
              "    }\n",
              "    60% {\n",
              "      border-color: transparent;\n",
              "      border-right-color: var(--fill-color);\n",
              "    }\n",
              "    80% {\n",
              "      border-color: transparent;\n",
              "      border-right-color: var(--fill-color);\n",
              "      border-bottom-color: var(--fill-color);\n",
              "    }\n",
              "    90% {\n",
              "      border-color: transparent;\n",
              "      border-bottom-color: var(--fill-color);\n",
              "    }\n",
              "  }\n",
              "</style>\n",
              "\n",
              "  <script>\n",
              "    async function quickchart(key) {\n",
              "      const quickchartButtonEl =\n",
              "        document.querySelector('#' + key + ' button');\n",
              "      quickchartButtonEl.disabled = true;  // To prevent multiple clicks.\n",
              "      quickchartButtonEl.classList.add('colab-df-spinner');\n",
              "      try {\n",
              "        const charts = await google.colab.kernel.invokeFunction(\n",
              "            'suggestCharts', [key], {});\n",
              "      } catch (error) {\n",
              "        console.error('Error during call to suggestCharts:', error);\n",
              "      }\n",
              "      quickchartButtonEl.classList.remove('colab-df-spinner');\n",
              "      quickchartButtonEl.classList.add('colab-df-quickchart-complete');\n",
              "    }\n",
              "    (() => {\n",
              "      let quickchartButtonEl =\n",
              "        document.querySelector('#df-43625df2-8e46-4e7f-a321-b7577ae633bf button');\n",
              "      quickchartButtonEl.style.display =\n",
              "        google.colab.kernel.accessAllowed ? 'block' : 'none';\n",
              "    })();\n",
              "  </script>\n",
              "</div>\n",
              "    </div>\n",
              "  </div>\n"
            ]
          },
          "metadata": {},
          "execution_count": 6
        }
      ],
      "source": [
        "df = pd.read_csv('img2text_compare (2).csv')\n",
        "df = df.sample(frac=1, random_state=42).reset_index(drop=True)\n",
        "df.head()"
      ]
    },
    {
      "cell_type": "markdown",
      "source": [
        "#### Classify the text"
      ],
      "metadata": {
        "id": "Gby_AQ4B_95x"
      }
    },
    {
      "cell_type": "code",
      "execution_count": 6,
      "metadata": {
        "id": "bbdY3DAj9sT4"
      },
      "outputs": [],
      "source": [
        "def classify_text_(text: str, model, tokenizer, device):\n",
        "    inputs = tokenizer.encode_plus(text, return_tensors=\"pt\").to(device)\n",
        "    outputs = model(**inputs)\n",
        "\n",
        "    token_class_index = torch.argmax(outputs.token_logits, dim=-1)\n",
        "    tags = [model.token_tags[i] for i in token_class_index[0].tolist()[1:-1]]\n",
        "\n",
        "    sequence_class_index = torch.argmax(outputs.sequence_logits, dim=-1)\n",
        "    sequence_class = model.sequence_tags[sequence_class_index[0]]\n",
        "    return sequence_class"
      ]
    },
    {
      "cell_type": "code",
      "execution_count": 9,
      "metadata": {
        "id": "OfVSGZeZ-HRg"
      },
      "outputs": [],
      "source": [
        "def predict_best_classes(df, model, tokenizer, device):\n",
        "    # Select the relevant columns\n",
        "    texts = df['generated_text_2'].tolist()\n",
        "    true_labels = df['classes'].tolist()\n",
        "\n",
        "    # Create an empty list to store predicted labels\n",
        "    predicted_labels = []\n",
        "\n",
        "    # Initialize variables for accuracy calculation\n",
        "    correct_predictions = 0\n",
        "    correct_predictions_prop = 0\n",
        "    total_samples = len(texts)\n",
        "\n",
        "    # Evaluate each text and store the predicted label\n",
        "    for text, true_label in zip(texts, true_labels):\n",
        "      predicted_label = classify_text_(text, model, tokenizer, device)\n",
        "      if predicted_label == 'Prop':\n",
        "        predicted_label = 'propaganda'\n",
        "        if predicted_label == true_label:\n",
        "          correct_predictions_prop += 1\n",
        "        print(f\"text is: {text}\")# and true_label is : {true_label} and predicted is: {predicted_label}\")\n",
        "      else:\n",
        "        predicted_label = 'none_propaganda'\n",
        "      predicted_labels.append(predicted_label)\n",
        "\n",
        "      # Check accuracy\n",
        "      if predicted_label == true_label:\n",
        "        correct_predictions += 1\n",
        "    # Calculate accuracy\n",
        "    accuracy = (correct_predictions / total_samples) * 100\n",
        "\n",
        "    # Add predicted labels to the DataFrame\n",
        "    df['predicted_class'] = predicted_labels\n",
        "    propaganda_count = df['predicted_class'].value_counts().get('propaganda', 0)\n",
        "    accuracy_prop = (correct_predictions_prop / propaganda_count)* 100\n",
        "\n",
        "\n",
        "    return accuracy, accuracy_prop"
      ]
    },
    {
      "cell_type": "markdown",
      "source": [
        "#### Prediction results"
      ],
      "metadata": {
        "id": "Nk2tiYpCAAtW"
      }
    },
    {
      "cell_type": "code",
      "execution_count": 10,
      "metadata": {
        "colab": {
          "base_uri": "https://localhost:8080/"
        },
        "id": "McABR70D-OoQ",
        "outputId": "aa90c825-d9d5-40b3-c413-f9d212bcf6b5"
      },
      "outputs": [
        {
          "output_type": "stream",
          "name": "stdout",
          "text": [
            "text is: a poster for the vampire bat starring two women and a man\n",
            "text is: a poster for the man who knew too much\n",
            "text is: a poster for the movie she done him wrong\n",
            "text is: a poster for the film cinderella starring mary pickford and cinderella\n",
            "text is: a poster for the movie harold lloyd and the cats paw\n",
            "text is: a poster for the movie crazy lady\n",
            "text is: a poster for the film the death kiss\n",
            "text is: a poster for the old dark house\n",
            "text is: a poster for the movie the mayor of hell\n",
            "text is: a poster for the film hallein'in a rum\n",
            "text is: a poster for the movie kentucky kernels\n",
            "text is: a poster for the movie the art of the howling dog\n",
            "text is: richard the knight - 11 x 17 movie poster - style a\n",
            "text is: they fight for you protect them poster\n",
            "text is: a picture of a poster for the movie arbuckle and keaton\n",
            "text is: there is a poster of a flower with a halo on it\n",
            "text is: the devil's brother - 11 x 17 movie poster - style a\n",
            "text is: a picture of a movie poster for the movie sweet little thing\n",
            "text is: a poster for the movie cabria, starring a giant statue\n",
            "text is: a poster for the movie fannie ward and the cheat\n",
            "text is: a poster for alice and the wonderland\n",
            "text is: a poster for the movie starring the famous film, the lady in the blue dress\n",
            "text is: a poster for the movie little miss harrier\n",
            "text is: a book cover of the book silence and confidence\n",
            "text is: a poster for mae west's i'm no angel\n",
            "text is: a poster for the film,'christopher strong '\n",
            "text is: a poster for the movie the cannivore\n",
            "text is: a poster for the movie imitation of life\n",
            "text is: the queen of the west\n",
            "text is: mickey mouse and the mad doctor\n",
            "text is: paul robeson the emperor jones\n",
            "text is: the cover of the book, the war of the world\n",
            "text is: a poster for the movie sex and lady\n",
            "text is: a poster for the movie, the lady in red starring actors\n",
            "text is: a poster for hell's hinges starring in the western western film\n",
            "text is: a poster for the movie park up you hobbies\n",
            "text is: john wayne the lawless frontier\n",
            "text is: a poster for the movie passionate plumber\n",
            "text is: the monster walks movie poster\n",
            "text is: a poster for the black cat starring the famous horror film\n",
            "text is: they follow the most soldiers in the world who know what we want it\n",
            "text is: fish is a fighting food we need more\n",
            "text is: a poster for the movie, the book of the dead\n",
            "text is: a poster for the movie charlie chan's greatest case\n",
            "text is: a picture taken from a poster of a us army soldier raising the flag\n",
            "text is: a poster for the film the life and times of a picture - comedy actor\n",
            "text is: a close up of a poster on a wall with a british flag\n",
            "text is: early russian cinema, volume 3 the films of the first world war\n",
            "text is: a poster for harold lloyd's movie crazy starring in the 1930s\n",
            "text is: a poster for the movie, the great gatsby\n",
            "text is: a poster for the birth of a nation\n",
            "text is: a poster for the movie mary pickford secrets\n",
            "text is: arafucks advertiser for the rough house, featuring a man in a suit and\n",
            "text is: a poster for the movie the avenging conscience\n",
            "text is: a poster for the movie broke girl\n",
            "text is: mickey mouse and friends are on a bus with a sign\n",
            "text is: a poster for the phantom of crestwood\n",
            "text is: a poster for the movie island of lost souls\n",
            "text is: arafed image of a man in a suit and tie walking with a suitcase\n",
            "text is: a poster for the movie baby face starring actors\n",
            "text is: a poster for the movie garbo queen christina\n",
            "text is: arafson the little giant movie poster\n",
            "text is: broken blossoms - british movie poster\n",
            "text is: a poster for the movie gold diggerrs of 1933\n",
            "text is: betty boo the definitive collection\n",
            "text is: a poster for charlie chan's courage starring the character of charlie chan\n",
            "text is: a book cover of the greatest wonder in the world\n",
            "text is: a poster for the coward starring frank kern and his wife\n",
            "text is: a poster for the film the mummy\n",
            "text is: blood of the bead by william j smith\n",
            "text is: arafed image of a movie poster for a western western film\n",
            "text is: a poster for the movie the prize fighter and the lady\n",
            "text is: harry carey's straight shooting by harry carey\n",
            "text is: betty boo the definitive collection\n",
            "Accuracy: 34.14% and accuracy of propaganda prediction is: 16.22%\n"
          ]
        }
      ],
      "source": [
        "# Tokenize the texts\n",
        "tokenizer = BertTokenizerFast.from_pretrained('bert-base-cased')\n",
        "\n",
        "# Instantiate your BERT model\n",
        "model = BertForTokenAndSequenceJointClassification.from_pretrained(\n",
        "    \"QCRI/PropagandaTechniquesAnalysis-en-BERT\",\n",
        "    revision=\"v0.1.0\",\n",
        ").to(device)\n",
        "\n",
        "# Predict the best classes for each text and calculate accuracy\n",
        "accuracy, accuracy_prop = predict_best_classes(df, model, tokenizer, device)\n",
        "\n",
        "print(f'Accuracy: {accuracy:.2f}% and accuracy of propaganda prediction is: {accuracy_prop:.2f}%')"
      ]
    },
    {
      "cell_type": "markdown",
      "source": [
        "# Multinomial Naive Bayes classifier"
      ],
      "metadata": {
        "id": "VZ6N1Vmx-MrU"
      }
    },
    {
      "cell_type": "code",
      "source": [
        "# Split the dataset into training and testing sets\n",
        "train_df, test_df = train_test_split(df, test_size=0.2, random_state=42)\n",
        "\n",
        "# Create TF-IDF vectors from the text data\n",
        "vectorizer = TfidfVectorizer(max_features=5000)\n",
        "X_train = vectorizer.fit_transform(train_df['generated_text_1'])\n",
        "X_test = vectorizer.transform(test_df['generated_text_1'])\n",
        "\n",
        "# Map labels to numerical values\n",
        "label_mapping = {'propaganda': 1, 'none_propaganda': 0}\n",
        "y_train = train_df['classes'].map(label_mapping)\n",
        "y_test = test_df['classes'].map(label_mapping)\n"
      ],
      "metadata": {
        "id": "ow5A467KxBqX"
      },
      "execution_count": 41,
      "outputs": []
    },
    {
      "cell_type": "code",
      "source": [
        "len(test_df['generated_text_1'])"
      ],
      "metadata": {
        "colab": {
          "base_uri": "https://localhost:8080/"
        },
        "id": "1bQmA_jW0hPG",
        "outputId": "68495508-491a-4619-eb85-418567f3e9b3"
      },
      "execution_count": 42,
      "outputs": [
        {
          "output_type": "execute_result",
          "data": {
            "text/plain": [
              "175"
            ]
          },
          "metadata": {},
          "execution_count": 42
        }
      ]
    },
    {
      "cell_type": "code",
      "source": [
        "# Train a Multinomial Naive Bayes classifier\n",
        "classifier = MultinomialNB()\n",
        "classifier.fit(X_train, y_train)\n",
        "# Make predictions on the test set\n",
        "y_pred = classifier.predict(X_test)\n",
        "\n",
        "# Calculate accuracy\n",
        "accuracy = accuracy_score(y_test, y_pred)\n",
        "print(f'Accuracy: {accuracy:.2f}')\n",
        "print(classification_report(y_test, y_pred))"
      ],
      "metadata": {
        "colab": {
          "base_uri": "https://localhost:8080/"
        },
        "id": "3TLTtfqAxHdy",
        "outputId": "027418e8-a71f-466a-bb91-1bed44693785"
      },
      "execution_count": 43,
      "outputs": [
        {
          "output_type": "stream",
          "name": "stdout",
          "text": [
            "Accuracy: 0.88\n",
            "              precision    recall  f1-score   support\n",
            "\n",
            "           0       0.91      0.76      0.83        67\n",
            "           1       0.87      0.95      0.91       108\n",
            "\n",
            "    accuracy                           0.88       175\n",
            "   macro avg       0.89      0.86      0.87       175\n",
            "weighted avg       0.88      0.88      0.88       175\n",
            "\n"
          ]
        }
      ]
    },
    {
      "cell_type": "markdown",
      "source": [
        "# Pre-trained BERT model"
      ],
      "metadata": {
        "id": "C7wQVNqC-VLE"
      }
    },
    {
      "cell_type": "code",
      "source": [
        "def load_and_split_data(csv_path, test_size=0.2, random_state=42):\n",
        "    df = pd.read_csv(csv_path)\n",
        "    df = df.sample(frac=1, random_state=42).reset_index(drop=True)\n",
        "    train_df, test_df = train_test_split(df, test_size=test_size, random_state=random_state)\n",
        "\n",
        "    return train_df, test_df\n",
        "\n",
        "def preprocess_data(train_df, test_df, tokenizer, generated_text, label_mapping):\n",
        "    # Tokenize and encode the text data\n",
        "    X_train = tokenizer(list(train_df[f'{generated_text}']), truncation=True, padding=True, return_tensors='pt', max_length=512)\n",
        "    X_test = tokenizer(list(test_df[f'{generated_text}']), truncation=True, padding=True, return_tensors='pt', max_length=512)\n",
        "\n",
        "    y_train = torch.tensor(train_df['classes'].map(label_mapping).values)\n",
        "    y_test = torch.tensor(test_df['classes'].map(label_mapping).values)\n",
        "\n",
        "    # Create DataLoader for training and testing sets\n",
        "    train_dataset = TensorDataset(X_train['input_ids'], X_train['attention_mask'], y_train)\n",
        "    test_dataset = TensorDataset(X_test['input_ids'], X_test['attention_mask'], y_test)\n",
        "\n",
        "    train_loader = DataLoader(train_dataset, batch_size=8, shuffle=True)\n",
        "    test_loader = DataLoader(test_dataset, batch_size=8, shuffle=False)\n",
        "\n",
        "    return train_loader, test_loader\n",
        "\n",
        "def train_model(model, train_loader, test_loader, optimizer, loss_fn, device, max_epochs=50, minim_epoch = 20, patience=5):\n",
        "    train_losses = []\n",
        "    accuracies = []\n",
        "    best_accuracy = 0.0\n",
        "    epochs_without_improvement = 0\n",
        "    best_model = []\n",
        "\n",
        "    model.to(device)\n",
        "    for epoch in range(max_epochs):\n",
        "        model.train()\n",
        "        total_train_loss = 0.0\n",
        "        for batch in train_loader:\n",
        "            input_ids, attention_mask, labels = batch\n",
        "            input_ids, attention_mask, labels = input_ids.to(device), attention_mask.to(device), labels.to(device)\n",
        "            optimizer.zero_grad()\n",
        "            outputs = model(input_ids, attention_mask=attention_mask, labels=labels)\n",
        "            loss = outputs.loss\n",
        "            total_train_loss += loss.item()\n",
        "            loss.backward()\n",
        "            optimizer.step()\n",
        "\n",
        "        avg_train_loss = total_train_loss / len(train_loader)\n",
        "        train_losses.append(avg_train_loss)\n",
        "\n",
        "        # Evaluate the model on the test set\n",
        "        accuracy, avg_test_loss = evaluate_model(model, test_loader, device)\n",
        "        accuracies.append(accuracy)\n",
        "        print(f\"Epoch {epoch + 1}/{max_epochs} - Current accuracy:{accuracy:.4f}%\")\n",
        "\n",
        "        # Save the best model\n",
        "        if accuracy > best_accuracy:\n",
        "            best_accuracy = accuracy\n",
        "            best_model = model.state_dict().copy()\n",
        "            epochs_without_improvement = 0\n",
        "        elif epoch >= minim_epoch:\n",
        "            epochs_without_improvement += 1\n",
        "\n",
        "        if epochs_without_improvement >= patience and epoch >= minim_epoch:\n",
        "            print(f'Early stopping! No improvement for {patience} epochs.')\n",
        "            break\n",
        "\n",
        "    # Plot training history\n",
        "    plot_training_history(train_losses, accuracies)\n",
        "\n",
        "    return best_model, best_accuracy\n",
        "\n",
        "def plot_training_history(train_losses, accuracies):\n",
        "    fig, ax1 = plt.subplots(figsize=(12, 6))\n",
        "\n",
        "    color = 'tab:red'\n",
        "    ax1.set_xlabel('Epoch')\n",
        "    ax1.set_ylabel('Train Loss', color=color)\n",
        "    ax1.plot(train_losses, label='Train Loss', color=color)\n",
        "    ax1.tick_params(axis='y', labelcolor=color)\n",
        "\n",
        "    ax2 = ax1.twinx()\n",
        "    color = 'tab:green'\n",
        "    ax2.set_ylabel('Test Accuracy', color=color)\n",
        "    ax2.plot(accuracies, label='Test Accuracy', color=color)\n",
        "    ax2.tick_params(axis='y', labelcolor=color)\n",
        "\n",
        "    fig.tight_layout()\n",
        "    plt.show()\n",
        "\n",
        "def evaluate_model(model, test_loader, device):\n",
        "    model.eval()\n",
        "    all_preds = []\n",
        "    all_labels = []\n",
        "    with torch.no_grad():\n",
        "        for batch in test_loader:\n",
        "            input_ids, attention_mask, labels = batch\n",
        "            input_ids, attention_mask, labels = input_ids.to(device), attention_mask.to(device), labels.to(device)\n",
        "            outputs = model(input_ids, attention_mask=attention_mask)\n",
        "            logits = outputs.logits\n",
        "            preds = torch.argmax(logits, dim=1)\n",
        "            all_preds.extend(preds.cpu().numpy())\n",
        "            all_labels.extend(labels.cpu().numpy())\n",
        "\n",
        "    accuracy = accuracy_score(all_labels, all_preds)\n",
        "    return accuracy, all_preds\n",
        "\n",
        "def predict_text(text, model, tokenizer, device):\n",
        "    # Tokenize and encode the input text\n",
        "    input_ids = tokenizer.encode(text, return_tensors='pt', max_length=512)\n",
        "    input_ids = input_ids.to(device)\n",
        "\n",
        "    # Make prediction\n",
        "    model.eval()\n",
        "    with torch.no_grad():\n",
        "        outputs = model(input_ids)\n",
        "        logits = outputs.logits\n",
        "        prediction = torch.argmax(logits, dim=1).item()\n",
        "\n",
        "    # Map numerical prediction to label\n",
        "    label_mapping_reverse = {1: 'propaganda', 0: 'none_propaganda'}\n",
        "    predicted_label = label_mapping_reverse[prediction]\n",
        "\n",
        "    return predicted_label\n"
      ],
      "metadata": {
        "id": "yCRH4fVY3NLu"
      },
      "execution_count": 126,
      "outputs": []
    },
    {
      "cell_type": "code",
      "source": [
        "### Load pre-trained BERT model and tokenizer ###\n",
        "tokenizer = BertTokenizer.from_pretrained('bert-base-uncased')\n",
        "model = BertForSequenceClassification.from_pretrained('bert-base-uncased', num_labels=2)"
      ],
      "metadata": {
        "colab": {
          "base_uri": "https://localhost:8080/"
        },
        "id": "tzwaY0z_5mqq",
        "outputId": "a43fd128-4b7a-420b-b9d6-b8a5e8d6bb79"
      },
      "execution_count": 54,
      "outputs": [
        {
          "output_type": "stream",
          "name": "stderr",
          "text": [
            "Some weights of BertForSequenceClassification were not initialized from the model checkpoint at bert-base-uncased and are newly initialized: ['classifier.weight', 'classifier.bias']\n",
            "You should probably TRAIN this model on a down-stream task to be able to use it for predictions and inference.\n"
          ]
        }
      ]
    },
    {
      "cell_type": "code",
      "source": [
        "### handle the data ###\n",
        "train_df, test_df = load_and_split_data('img2text_compare (2).csv')\n",
        "\n",
        "# Map labels to numerical values\n",
        "label_mapping = {'propaganda': 1, 'none_propaganda': 0}\n",
        "\n",
        "# Create DataLoader for training and testing sets\n",
        "train_loader, test_loader = preprocess_data(train_df, test_df, tokenizer, 'generated_text_1', label_mapping)"
      ],
      "metadata": {
        "id": "9j6RTLjk5rH7"
      },
      "execution_count": 55,
      "outputs": []
    },
    {
      "cell_type": "code",
      "source": [
        "### Train the model ###\n",
        "optimizer = torch.optim.AdamW(model.parameters(), lr=2e-5)\n",
        "loss_fn = torch.nn.CrossEntropyLoss()\n",
        "best_model_state_dict, best_accuracy = train_model(model, train_loader, test_loader, optimizer, loss_fn, device)"
      ],
      "metadata": {
        "colab": {
          "base_uri": "https://localhost:8080/",
          "height": 935
        },
        "id": "hZps-nMI5t-r",
        "outputId": "c362e5f9-5203-47d2-cbf7-e03b59823fce"
      },
      "execution_count": 131,
      "outputs": [
        {
          "output_type": "stream",
          "name": "stdout",
          "text": [
            "Epoch 1/50 - Current accuracy:0.9143%\n",
            "Epoch 2/50 - Current accuracy:0.9143%\n",
            "Epoch 3/50 - Current accuracy:0.9200%\n",
            "Epoch 4/50 - Current accuracy:0.9200%\n",
            "Epoch 5/50 - Current accuracy:0.9143%\n",
            "Epoch 6/50 - Current accuracy:0.9086%\n",
            "Epoch 7/50 - Current accuracy:0.9086%\n",
            "Epoch 8/50 - Current accuracy:0.8971%\n",
            "Epoch 9/50 - Current accuracy:0.9086%\n",
            "Epoch 10/50 - Current accuracy:0.9314%\n",
            "Epoch 11/50 - Current accuracy:0.8914%\n",
            "Epoch 12/50 - Current accuracy:0.9143%\n",
            "Epoch 13/50 - Current accuracy:0.9086%\n",
            "Epoch 14/50 - Current accuracy:0.9029%\n",
            "Epoch 15/50 - Current accuracy:0.9029%\n",
            "Epoch 16/50 - Current accuracy:0.9143%\n",
            "Epoch 17/50 - Current accuracy:0.9143%\n",
            "Epoch 18/50 - Current accuracy:0.8971%\n",
            "Epoch 19/50 - Current accuracy:0.9200%\n",
            "Epoch 20/50 - Current accuracy:0.9086%\n",
            "Epoch 21/50 - Current accuracy:0.8914%\n",
            "Epoch 22/50 - Current accuracy:0.8971%\n",
            "Epoch 23/50 - Current accuracy:0.9029%\n",
            "Epoch 24/50 - Current accuracy:0.9029%\n",
            "Epoch 25/50 - Current accuracy:0.9086%\n",
            "Early stopping! No improvement for 5 epochs.\n"
          ]
        },
        {
          "output_type": "display_data",
          "data": {
            "text/plain": [
              "<Figure size 1200x600 with 2 Axes>"
            ],
            "image/png": "[encoded data removed]"
          },
          "metadata": {}
        }
      ]
    },
    {
      "cell_type": "code",
      "source": [
        "print(best_accuracy)"
      ],
      "metadata": {
        "colab": {
          "base_uri": "https://localhost:8080/"
        },
        "id": "mdf69LzBX1CF",
        "outputId": "8bdb5bd5-d8d1-4014-f98f-13bb0bbf2ba4"
      },
      "execution_count": 132,
      "outputs": [
        {
          "output_type": "stream",
          "name": "stdout",
          "text": [
            "0.9314285714285714\n"
          ]
        }
      ]
    },
    {
      "cell_type": "code",
      "source": [
        "# Load the best model\n",
        "best_model = BertForSequenceClassification.from_pretrained('bert-base-uncased', num_labels=2)\n",
        "best_model.load_state_dict(best_model_state_dict)\n",
        "best_model.to(device)"
      ],
      "metadata": {
        "colab": {
          "base_uri": "https://localhost:8080/"
        },
        "id": "elPWoIplFsDM",
        "outputId": "0bbd67e7-f49d-4da2-c5f2-194c917faa70"
      },
      "execution_count": 139,
      "outputs": [
        {
          "output_type": "stream",
          "name": "stderr",
          "text": [
            "Some weights of BertForSequenceClassification were not initialized from the model checkpoint at bert-base-uncased and are newly initialized: ['classifier.weight', 'classifier.bias']\n",
            "You should probably TRAIN this model on a down-stream task to be able to use it for predictions and inference.\n"
          ]
        },
        {
          "output_type": "execute_result",
          "data": {
            "text/plain": [
              "BertForSequenceClassification(\n",
              "  (bert): BertModel(\n",
              "    (embeddings): BertEmbeddings(\n",
              "      (word_embeddings): Embedding(30522, 768, padding_idx=0)\n",
              "      (position_embeddings): Embedding(512, 768)\n",
              "      (token_type_embeddings): Embedding(2, 768)\n",
              "      (LayerNorm): LayerNorm((768,), eps=1e-12, elementwise_affine=True)\n",
              "      (dropout): Dropout(p=0.1, inplace=False)\n",
              "    )\n",
              "    (encoder): BertEncoder(\n",
              "      (layer): ModuleList(\n",
              "        (0-11): 12 x BertLayer(\n",
              "          (attention): BertAttention(\n",
              "            (self): BertSelfAttention(\n",
              "              (query): Linear(in_features=768, out_features=768, bias=True)\n",
              "              (key): Linear(in_features=768, out_features=768, bias=True)\n",
              "              (value): Linear(in_features=768, out_features=768, bias=True)\n",
              "              (dropout): Dropout(p=0.1, inplace=False)\n",
              "            )\n",
              "            (output): BertSelfOutput(\n",
              "              (dense): Linear(in_features=768, out_features=768, bias=True)\n",
              "              (LayerNorm): LayerNorm((768,), eps=1e-12, elementwise_affine=True)\n",
              "              (dropout): Dropout(p=0.1, inplace=False)\n",
              "            )\n",
              "          )\n",
              "          (intermediate): BertIntermediate(\n",
              "            (dense): Linear(in_features=768, out_features=3072, bias=True)\n",
              "            (intermediate_act_fn): GELUActivation()\n",
              "          )\n",
              "          (output): BertOutput(\n",
              "            (dense): Linear(in_features=3072, out_features=768, bias=True)\n",
              "            (LayerNorm): LayerNorm((768,), eps=1e-12, elementwise_affine=True)\n",
              "            (dropout): Dropout(p=0.1, inplace=False)\n",
              "          )\n",
              "        )\n",
              "      )\n",
              "    )\n",
              "    (pooler): BertPooler(\n",
              "      (dense): Linear(in_features=768, out_features=768, bias=True)\n",
              "      (activation): Tanh()\n",
              "    )\n",
              "  )\n",
              "  (dropout): Dropout(p=0.1, inplace=False)\n",
              "  (classifier): Linear(in_features=768, out_features=2, bias=True)\n",
              ")"
            ]
          },
          "metadata": {},
          "execution_count": 139
        }
      ]
    },
    {
      "cell_type": "code",
      "source": [
        "### Evaluate the model and display the Calculated accuracy ###\n",
        "accuracy, all_preds= evaluate_model(model, test_loader, device)\n",
        "print(f'Best Model Test Accuracy: {accuracy:.4f}%')\n",
        "print(classification_report(test_df['classes'].map(label_mapping).values, all_preds))"
      ],
      "metadata": {
        "colab": {
          "base_uri": "https://localhost:8080/"
        },
        "id": "jiybyDPh5xHy",
        "outputId": "36cffcc6-6160-46bb-9e6c-dac68a11ad17"
      },
      "execution_count": 140,
      "outputs": [
        {
          "output_type": "stream",
          "name": "stdout",
          "text": [
            "Best Model Test Accuracy: 0.9086%\n",
            "              precision    recall  f1-score   support\n",
            "\n",
            "           0       0.93      0.82      0.87        67\n",
            "           1       0.90      0.96      0.93       108\n",
            "\n",
            "    accuracy                           0.91       175\n",
            "   macro avg       0.91      0.89      0.90       175\n",
            "weighted avg       0.91      0.91      0.91       175\n",
            "\n"
          ]
        }
      ]
    },
    {
      "cell_type": "code",
      "source": [
        "### Predict on a given text ###\n",
        "text_to_predict = \"a photography of a sign advertising a front national restaurant\"\n",
        "predicted_label = predict_text(text_to_predict, best_model, tokenizer, device)\n",
        "print(f'Predicted label for \"{text_to_predict}\": {predicted_label}')"
      ],
      "metadata": {
        "colab": {
          "base_uri": "https://localhost:8080/"
        },
        "id": "MlG2u60s51Gi",
        "outputId": "ff046d93-4db2-4211-bfea-0db8969ed702"
      },
      "execution_count": 88,
      "outputs": [
        {
          "output_type": "stream",
          "name": "stderr",
          "text": [
            "Truncation was not explicitly activated but `max_length` is provided a specific value, please use `truncation=True` to explicitly truncate examples to max length. Defaulting to 'longest_first' truncation strategy. If you encode pairs of sequences (GLUE-style) with the tokenizer you can select this strategy more precisely by providing a specific strategy to `truncation`.\n"
          ]
        },
        {
          "output_type": "stream",
          "name": "stdout",
          "text": [
            "Predicted label for \"a photography of a sign advertising a front national restaurant\": propaganda\n"
          ]
        }
      ]
    },
    {
      "cell_type": "code",
      "source": [
        "best_model.eval()  # Set the model to evaluation mode\n",
        "\n",
        "# Specify the directory path to save the model\n",
        "saved_model_dir = \"/content/saved_model_directory\"\n",
        "\n",
        "# Save the model to the specified directory\n",
        "best_model.save_pretrained(saved_model_dir)"
      ],
      "metadata": {
        "id": "-_tpYCJ7Rela"
      },
      "execution_count": 95,
      "outputs": []
    }
  ],
  "metadata": {
    "colab": {
      "machine_shape": "hm",
      "provenance": [],
      "gpuType": "A100"
    },
    "kernelspec": {
      "display_name": "Python 3",
      "name": "python3"
    },
    "language_info": {
      "name": "python"
    },
    "accelerator": "GPU"
  },
  "nbformat": 4,
  "nbformat_minor": 0
}